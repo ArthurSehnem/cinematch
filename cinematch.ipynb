{
  "nbformat": 4,
  "nbformat_minor": 0,
  "metadata": {
    "colab": {
      "provenance": [],
      "authorship_tag": "ABX9TyM29e00wOQqiRZgj018un1C",
      "include_colab_link": true
    },
    "kernelspec": {
      "name": "python3",
      "display_name": "Python 3"
    },
    "language_info": {
      "name": "python"
    }
  },
  "cells": [
    {
      "cell_type": "markdown",
      "metadata": {
        "id": "view-in-github",
        "colab_type": "text"
      },
      "source": [
        "<a href=\"https://colab.research.google.com/github/ArthurSehnem/cinematch/blob/main/cinematch.ipynb\" target=\"_parent\"><img src=\"https://colab.research.google.com/assets/colab-badge.svg\" alt=\"Open In Colab\"/></a>"
      ]
    },
    {
      "cell_type": "code",
      "source": [
        "import pandas as pd\n",
        "import numpy as np\n",
        "import difflib\n",
        "from sklearn.feature_extraction.text import TfidfVectorizer\n",
        "from sklearn.metrics.pairwise import cosine_similarity\n",
        "from deep_translator import GoogleTranslator\n",
        "\n",
        "# Carregar dados\n",
        "data = pd.read_csv('TMDB_movie_dataset_v11.csv', on_bad_lines='skip', nrows=10000)\n",
        "general_data = data.copy()\n",
        "\n",
        "# Selecionar e combinar os recursos\n",
        "features = ['genres', 'overview', 'tagline', 'production_companies', 'keywords']\n",
        "data_features = data[features].fillna(\" \")\n",
        "combined_features = (\n",
        "    data_features['genres'] + ' ' +\n",
        "    data_features['overview'] + ' ' +\n",
        "    data_features['tagline'] + ' ' +\n",
        "    data_features['production_companies'] + ' ' +\n",
        "    data_features['keywords']\n",
        ")\n",
        "\n",
        "# Vetorização e similaridade\n",
        "vectorizer = TfidfVectorizer(stop_words='english', max_features=10000)\n",
        "feature_vectors = vectorizer.fit_transform(combined_features)\n",
        "similarity = cosine_similarity(feature_vectors)\n",
        "\n",
        "# Entrada do usuário\n",
        "movie_name = input('\\n🎬 Digite o nome original (em inglês) de um filme que você gosta: ').strip().title()\n",
        "list_movies = general_data['original_title'].tolist()\n",
        "close_match = difflib.get_close_matches(movie_name, list_movies)\n",
        "\n",
        "if not close_match:\n",
        "    print(\"❌ Nenhum filme parecido encontrado.\")\n",
        "    exit()\n",
        "\n",
        "matched_movie = close_match[0]\n",
        "index_movie = general_data[general_data['original_title'] == matched_movie].index[0]\n",
        "\n",
        "# Obter recomendações\n",
        "similarity_score = list(enumerate(similarity[index_movie]))\n",
        "sorted_similar_movie = sorted(similarity_score, key=lambda x: x[1], reverse=True)\n",
        "\n",
        "# Mostrar top 5, ignorando o próprio filme\n",
        "print(f\"\\n🔎 Recomendando com base no filme: {matched_movie}\")\n",
        "print('\\n🎯 Filmes recomendados para você:\\n')\n",
        "\n",
        "recommendations_shown = 0\n",
        "shown_titles_and_summaries = set()\n",
        "\n",
        "for i in sorted_similar_movie:\n",
        "    index = i[0]\n",
        "    if index == index_movie:\n",
        "        continue\n",
        "\n",
        "    title = general_data.iloc[index]['original_title']\n",
        "    overview = general_data.iloc[index]['overview']\n",
        "\n",
        "    identifier = (title.strip().lower(), overview.strip().lower())\n",
        "    if identifier in shown_titles_and_summaries:\n",
        "        continue\n",
        "    shown_titles_and_summaries.add(identifier)\n",
        "\n",
        "    score = general_data.iloc[index]['vote_average']\n",
        "    release_date = general_data.iloc[index]['release_date']\n",
        "\n",
        "    try:\n",
        "        overview_pt = GoogleTranslator(source='auto', target='pt').translate(overview)\n",
        "    except:\n",
        "        overview_pt = \"⚠️ Erro ao traduzir sinopse.\"\n",
        "\n",
        "    try:\n",
        "        formatted_date = pd.to_datetime(release_date, errors='coerce').strftime('%d/%m/%Y')\n",
        "    except:\n",
        "        formatted_date = \"Data desconhecida\"\n",
        "\n",
        "    print(f\"{recommendations_shown + 1}. {title} ({formatted_date}) - Nota: {score:.1f}\" if not pd.isna(score) else f\"{recommendations_shown + 1}. {title} ({formatted_date}) - Nota: N/A\")\n",
        "    print(f\"   Sinopse: {overview_pt}\\n\")\n",
        "\n",
        "    recommendations_shown += 1\n",
        "    if recommendations_shown >= 5:\n",
        "        break\n"
      ],
      "metadata": {
        "id": "5AD4y7ZBf0NE"
      },
      "execution_count": null,
      "outputs": []
    }
  ]
}